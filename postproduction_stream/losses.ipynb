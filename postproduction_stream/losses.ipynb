{
 "cells": [
  {
   "cell_type": "code",
   "execution_count": null,
   "id": "1b74b488",
   "metadata": {},
   "outputs": [],
   "source": [
    "import pandas as pd"
   ]
  },
  {
   "cell_type": "code",
   "execution_count": null,
   "id": "32c4e3a9",
   "metadata": {},
   "outputs": [],
   "source": [
    "import numpy as np"
   ]
  },
  {
   "cell_type": "code",
   "execution_count": null,
   "id": "5a631666",
   "metadata": {},
   "outputs": [],
   "source": [
    "import matplotlib.pyplot as plt"
   ]
  },
  {
   "cell_type": "code",
   "execution_count": null,
   "id": "0c71e4f1",
   "metadata": {},
   "outputs": [],
   "source": [
    "df = pd.read_csv('losses.csv')\n",
    "df.plot(y=[\"train_loss\", \"val_loss\"],logy=False, figsize=(16,8), grid=True)\n",
    "plt.ylim(1,300)\n"
   ]
  },
  {
   "cell_type": "code",
   "execution_count": null,
   "id": "5135247e",
   "metadata": {},
   "outputs": [],
   "source": [
    "df.plot(y=[\"train_loss\", \"val_loss\"], logy=False, figsize=(16,8), grid=True)\n",
    "plt.xlim(3000, 4000)\n",
    "plt.ylim(4, 15)"
   ]
  },
  {
   "cell_type": "code",
   "execution_count": null,
   "id": "8b2ab197",
   "metadata": {},
   "outputs": [],
   "source": [
    "df.plot.scatter(x=\"train_loss\", y=\"val_loss\", logy=False, figsize=(16,16), grid=True)\n",
    "plt.xlim(4, 25)\n",
    "plt.ylim(4, 25)"
   ]
  }
 ],
 "metadata": {
  "kernelspec": {
   "display_name": "Python 3",
   "language": "python",
   "name": "python3"
  },
  "language_info": {
   "codemirror_mode": {
    "name": "ipython",
    "version": 3
   },
   "file_extension": ".py",
   "mimetype": "text/x-python",
   "name": "python",
   "nbconvert_exporter": "python",
   "pygments_lexer": "ipython3",
   "version": "3.8.2"
  }
 },
 "nbformat": 4,
 "nbformat_minor": 5
}
