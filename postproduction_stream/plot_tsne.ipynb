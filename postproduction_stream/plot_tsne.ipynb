{
 "cells": [
  {
   "cell_type": "code",
   "execution_count": null,
   "metadata": {},
   "outputs": [],
   "source": [
    "import numpy as np\n",
    "import pandas as pd\n",
    "import plotly.express as px\n",
    "from sklearn.manifold import TSNE\n",
    "import matplotlib.pyplot as plt"
   ]
  },
  {
   "cell_type": "code",
   "execution_count": null,
   "metadata": {},
   "outputs": [],
   "source": [
    "dir = './'"
   ]
  },
  {
   "cell_type": "code",
   "execution_count": null,
   "metadata": {},
   "outputs": [],
   "source": [
    "embeddings_cvae = np.load(f\"{dir}/embeddings_cvae.npy\")"
   ]
  },
  {
   "cell_type": "code",
   "execution_count": null,
   "metadata": {},
   "outputs": [],
   "source": [
    "rmsd = np.load(f\"{dir}/rmsd.npy\")"
   ]
  },
  {
   "cell_type": "code",
   "execution_count": null,
   "metadata": {},
   "outputs": [],
   "source": [
    "tsne_embeddings_2 = np.load(f\"{dir}/tsne_embeddings_2.npy\")"
   ]
  },
  {
   "cell_type": "code",
   "execution_count": null,
   "metadata": {},
   "outputs": [],
   "source": [
    "tsne_embeddings_3 = np.load(f\"{dir}/tsne_embeddings_3.npy\")"
   ]
  },
  {
   "cell_type": "code",
   "execution_count": null,
   "metadata": {},
   "outputs": [],
   "source": [
    "def plot_tsne(tsne_embeddings, df_dict={}, color=None):\n",
    "    for i, name in enumerate([\"x\", \"y\", \"z\"]):\n",
    "        df_dict[name] = tsne_embeddings[:, i]\n",
    "    embeddings_df = pd.DataFrame(df_dict)\n",
    "    fig = px.scatter_3d(\n",
    "        embeddings_df, x=\"x\", y=\"y\", z=\"z\",\n",
    "        color=color, width=1000, height=1000\n",
    "    )\n",
    "    fig.update_layout(\n",
    "        font=dict(\n",
    "            family=\"Courier New, monospace\",\n",
    "            size=18,\n",
    "            color=\"black\"\n",
    "        )\n",
    "    )\n",
    "    fig.show()\n",
    "    return fig\n"
   ]
  },
  {
   "cell_type": "code",
   "execution_count": null,
   "metadata": {},
   "outputs": [],
   "source": [
    "%matplotlib\n",
    "fig = plot_tsne(tsne_embeddings_3, {\"rmsd\": rmsd}, \"rmsd\"); plt.show()"
   ]
  },
  {
   "cell_type": "code",
   "execution_count": null,
   "metadata": {},
   "outputs": [],
   "source": [
    "fig.write_image(\"tsne_embedding_3.png\", format='png', scale=1.8)"
   ]
  },
  {
   "cell_type": "code",
   "execution_count": null,
   "metadata": {},
   "outputs": [],
   "source": [
    "def plot_tsne2(tsne_embeddings, df_dict={}, color=None):\n",
    "    for i, name in enumerate([\"x\", \"y\"]):\n",
    "        df_dict[name] = tsne_embeddings[:, i]\n",
    "    embeddings_df = pd.DataFrame(df_dict)\n",
    "    fig = px.scatter(\n",
    "        embeddings_df, x=\"x\", y=\"y\", \n",
    "        color=color, width=1000, height=1000\n",
    "    )\n",
    "    fig.update_layout(\n",
    "        font=dict(\n",
    "            family=\"Courier New, monospace\",\n",
    "            size=18,\n",
    "            color=\"black\"\n",
    "        )\n",
    "    )\n",
    "    fig.show()\n",
    "    return fig\n"
   ]
  },
  {
   "cell_type": "code",
   "execution_count": null,
   "metadata": {},
   "outputs": [],
   "source": [
    "fig = plot_tsne2(tsne_embeddings_2, {\"rmsd\": rmsd}, \"rmsd\"); plt.show()"
   ]
  },
  {
   "cell_type": "code",
   "execution_count": null,
   "metadata": {},
   "outputs": [],
   "source": [
    "fig.write_image(\"tsne_embedding_2.png\", format='png', scale=1.8)"
   ]
  },
  {
   "cell_type": "code",
   "execution_count": null,
   "metadata": {},
   "outputs": [],
   "source": [
    "import glob\n",
    "rmsdbp = glob.glob(\"rmsd_*.npy\")"
   ]
  },
  {
   "cell_type": "code",
   "execution_count": null,
   "metadata": {},
   "outputs": [],
   "source": [
    "frames = []\n",
    "fsteps = []\n",
    "for bp in rmsdbp:\n",
    "    print(bp)\n",
    "    bpdf = np.load(bp)\n",
    "    print(\"min=\", np.min(bpdf), \" shape=\", bpdf.shape)\n",
    "    frames.append(bpdf)\n",
    "    fsteps.append(np.arange(bpdf.shape[0]))\n",
    "    \n",
    "frames = np.concatenate(frames)\n",
    "fsteps = np.concatenate(fsteps)\n",
    "print(frames.shape)\n",
    "    \n",
    "rmsd_df = pd.DataFrame(data={'rmsd':frames, 'fsteps':fsteps})\n",
    "    "
   ]
  },
  {
   "cell_type": "code",
   "execution_count": null,
   "metadata": {},
   "outputs": [],
   "source": [
    "%matplotlib inline\n",
    "rmsd_df.rmsd.plot.hist(grid=True, figsize=(8,8), logy=True).set_xlabel(\"RMSD\")"
   ]
  },
  {
   "cell_type": "code",
   "execution_count": null,
   "metadata": {},
   "outputs": [],
   "source": [
    "rmsd_df['hour'] = rmsd_df.fsteps/max(rmsd_df.fsteps)*12"
   ]
  },
  {
   "cell_type": "code",
   "execution_count": null,
   "metadata": {},
   "outputs": [],
   "source": [
    "rmsd_df.plot.scatter(x=\"hour\", y=\"rmsd\", figsize=(14,8), grid=True, ylabel=\"RMSD\")"
   ]
  },
  {
   "cell_type": "code",
   "execution_count": null,
   "metadata": {},
   "outputs": [],
   "source": []
  }
 ],
 "metadata": {
  "kernelspec": {
   "display_name": "Python 3",
   "language": "python",
   "name": "python3"
  },
  "language_info": {
   "codemirror_mode": {
    "name": "ipython",
    "version": 3
   },
   "file_extension": ".py",
   "mimetype": "text/x-python",
   "name": "python",
   "nbconvert_exporter": "python",
   "pygments_lexer": "ipython3",
   "version": "3.8.2"
  }
 },
 "nbformat": 4,
 "nbformat_minor": 4
}
